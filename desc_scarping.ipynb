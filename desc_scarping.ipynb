{
 "cells": [
  {
   "cell_type": "code",
   "execution_count": 6,
   "metadata": {},
   "outputs": [],
   "source": [
    "from selenium.common.exceptions import NoSuchElementException, ElementClickInterceptedException\n",
    "from selenium import webdriver\n",
    "from webdriver_manager.chrome import ChromeDriverManager\n",
    "from selenium.webdriver.chrome.service import Service\n",
    "from selenium.webdriver.support.ui import WebDriverWait\n",
    "from selenium.webdriver.common.by import By\n",
    "from selenium.webdriver.support import expected_conditions as EC\n",
    "from selenium.webdriver.common.keys import Keys\n",
    "import undetected_chromedriver as uc\n",
    "import time\n",
    "import pandas as pd \n"
   ]
  },
  {
   "cell_type": "code",
   "execution_count": 7,
   "metadata": {},
   "outputs": [],
   "source": [
    "df=pd.read_csv(\"salary data cleaned.csv\")\n"
   ]
  },
  {
   "cell_type": "code",
   "execution_count": 11,
   "metadata": {},
   "outputs": [],
   "source": [
    "def find_rating(company_name):\n",
    "    \n",
    "    driver = uc.Chrome()\n",
    "    driver.get('https://www.ambitionbox.com/list-of-companies?campaign=desktop_nav')\n",
    " \n",
    "    \n",
    "\n",
    "    wait = WebDriverWait(driver, 10)\n",
    "    wait.until(EC.presence_of_element_located((By.XPATH, '//*[@id=\"autosuggest\"]')))\n",
    "\n",
    "    search_box=driver.find_element(By.XPATH,'//*[@type=\"search\"]')\n",
    "    search_box.send_keys(company_name)\n",
    "    search_box.send_keys(Keys.ENTER)\n",
    "    try:\n",
    "        time.sleep(5)\n",
    "        try:\n",
    "            rating=driver.find_element(By.XPATH,'//span[@class=\"newHInfo__rating\"]//i')\n",
    "        except NoSuchElementException:\n",
    "            rating=-1\n",
    "        \n",
    "        driver.close()\n",
    "        \n",
    "    except NoSuchElementException:\n",
    "            rating=-1\n",
    "            driver.close()\n",
    "\n",
    "    return rating\n",
    "    # search_box = driver.find_element(By.XPATH,'//*[@title=\"Search\"]')\n",
    "    # search_box.send_keys(company_name)\n",
    "    # search_box.send_keys(Keys.ENTER)\n",
    "    # wait = WebDriverWait(driver, 10)\n",
    "    # wait.until(EC.presence_of_element_located((By.XPATH, '//*[@class=\"jfN4p\"]')))\n",
    "    # try:\n",
    "    #     rating=driver.find_element(By.XPATH,'//span[@class=\"Aq14fc\"]').text\n",
    "    # except:\n",
    "    #     rating=-1\n",
    "    \n",
    "    # return rating"
   ]
  },
  {
   "cell_type": "code",
   "execution_count": 12,
   "metadata": {},
   "outputs": [],
   "source": [
    "def find_details():\n",
    "    \n",
    "    df[\"Rating\"]=df[\"Company Name\"][df[\"Rating\"]==-1].apply(find_rating)\n"
   ]
  },
  {
   "cell_type": "code",
   "execution_count": 13,
   "metadata": {},
   "outputs": [
    {
     "ename": "WebDriverException",
     "evalue": "Message: disconnected: not connected to DevTools\n  (failed to check if window was closed: disconnected: not connected to DevTools)\n  (Session info: chrome=113.0.5672.93)\nStacktrace:\nBacktrace:\n\tGetHandleVerifier [0x00F88893+48451]\n\t(No symbol) [0x00F1B8A1]\n\t(No symbol) [0x00E25058]\n\t(No symbol) [0x00E16F0B]\n\t(No symbol) [0x00E175CA]\n\t(No symbol) [0x00E17568]\n\t(No symbol) [0x00E0C0BA]\n\t(No symbol) [0x00E0C917]\n\t(No symbol) [0x00E722F8]\n\t(No symbol) [0x00E6A283]\n\t(No symbol) [0x00E47E08]\n\t(No symbol) [0x00E48F2D]\n\tGetHandleVerifier [0x011E8E3A+2540266]\n\tGetHandleVerifier [0x01228959+2801161]\n\tGetHandleVerifier [0x0122295C+2776588]\n\tGetHandleVerifier [0x01012280+612144]\n\t(No symbol) [0x00F24F6C]\n\t(No symbol) [0x00F211D8]\n\t(No symbol) [0x00F212BB]\n\t(No symbol) [0x00F14857]\n\tBaseThreadInitThunk [0x75C07D59+25]\n\tRtlInitializeExceptionChain [0x775AB74B+107]\n\tRtlClearBits [0x775AB6CF+191]\n",
     "output_type": "error",
     "traceback": [
      "\u001b[1;31m---------------------------------------------------------------------------\u001b[0m",
      "\u001b[1;31mWebDriverException\u001b[0m                        Traceback (most recent call last)",
      "\u001b[1;32md:\\shreeraj\\Coding\\Data science\\Project1\\ds_salary_proj\\desc_scarping.ipynb Cell 5\u001b[0m in \u001b[0;36m<cell line: 1>\u001b[1;34m()\u001b[0m\n\u001b[1;32m----> <a href='vscode-notebook-cell:/d%3A/shreeraj/Coding/Data%20science/Project1/ds_salary_proj/desc_scarping.ipynb#W4sZmlsZQ%3D%3D?line=0'>1</a>\u001b[0m find_details()\n",
      "\u001b[1;32md:\\shreeraj\\Coding\\Data science\\Project1\\ds_salary_proj\\desc_scarping.ipynb Cell 5\u001b[0m in \u001b[0;36mfind_details\u001b[1;34m()\u001b[0m\n\u001b[0;32m      <a href='vscode-notebook-cell:/d%3A/shreeraj/Coding/Data%20science/Project1/ds_salary_proj/desc_scarping.ipynb#W4sZmlsZQ%3D%3D?line=0'>1</a>\u001b[0m \u001b[39mdef\u001b[39;00m \u001b[39mfind_details\u001b[39m():\n\u001b[1;32m----> <a href='vscode-notebook-cell:/d%3A/shreeraj/Coding/Data%20science/Project1/ds_salary_proj/desc_scarping.ipynb#W4sZmlsZQ%3D%3D?line=2'>3</a>\u001b[0m     df[\u001b[39m\"\u001b[39m\u001b[39mRating\u001b[39m\u001b[39m\"\u001b[39m]\u001b[39m=\u001b[39mdf[\u001b[39m\"\u001b[39;49m\u001b[39mCompany Name\u001b[39;49m\u001b[39m\"\u001b[39;49m][df[\u001b[39m\"\u001b[39;49m\u001b[39mRating\u001b[39;49m\u001b[39m\"\u001b[39;49m]\u001b[39m==\u001b[39;49m\u001b[39m-\u001b[39;49m\u001b[39m1\u001b[39;49m]\u001b[39m.\u001b[39;49mapply(find_rating)\n",
      "File \u001b[1;32md:\\shreeraj\\program files\\Anaconda\\lib\\site-packages\\pandas\\core\\series.py:4433\u001b[0m, in \u001b[0;36mSeries.apply\u001b[1;34m(self, func, convert_dtype, args, **kwargs)\u001b[0m\n\u001b[0;32m   4323\u001b[0m \u001b[39mdef\u001b[39;00m \u001b[39mapply\u001b[39m(\n\u001b[0;32m   4324\u001b[0m     \u001b[39mself\u001b[39m,\n\u001b[0;32m   4325\u001b[0m     func: AggFuncType,\n\u001b[1;32m   (...)\u001b[0m\n\u001b[0;32m   4328\u001b[0m     \u001b[39m*\u001b[39m\u001b[39m*\u001b[39mkwargs,\n\u001b[0;32m   4329\u001b[0m ) \u001b[39m-\u001b[39m\u001b[39m>\u001b[39m DataFrame \u001b[39m|\u001b[39m Series:\n\u001b[0;32m   4330\u001b[0m     \u001b[39m\"\"\"\u001b[39;00m\n\u001b[0;32m   4331\u001b[0m \u001b[39m    Invoke function on values of Series.\u001b[39;00m\n\u001b[0;32m   4332\u001b[0m \n\u001b[1;32m   (...)\u001b[0m\n\u001b[0;32m   4431\u001b[0m \u001b[39m    dtype: float64\u001b[39;00m\n\u001b[0;32m   4432\u001b[0m \u001b[39m    \"\"\"\u001b[39;00m\n\u001b[1;32m-> 4433\u001b[0m     \u001b[39mreturn\u001b[39;00m SeriesApply(\u001b[39mself\u001b[39;49m, func, convert_dtype, args, kwargs)\u001b[39m.\u001b[39;49mapply()\n",
      "File \u001b[1;32md:\\shreeraj\\program files\\Anaconda\\lib\\site-packages\\pandas\\core\\apply.py:1082\u001b[0m, in \u001b[0;36mSeriesApply.apply\u001b[1;34m(self)\u001b[0m\n\u001b[0;32m   1078\u001b[0m \u001b[39mif\u001b[39;00m \u001b[39misinstance\u001b[39m(\u001b[39mself\u001b[39m\u001b[39m.\u001b[39mf, \u001b[39mstr\u001b[39m):\n\u001b[0;32m   1079\u001b[0m     \u001b[39m# if we are a string, try to dispatch\u001b[39;00m\n\u001b[0;32m   1080\u001b[0m     \u001b[39mreturn\u001b[39;00m \u001b[39mself\u001b[39m\u001b[39m.\u001b[39mapply_str()\n\u001b[1;32m-> 1082\u001b[0m \u001b[39mreturn\u001b[39;00m \u001b[39mself\u001b[39;49m\u001b[39m.\u001b[39;49mapply_standard()\n",
      "File \u001b[1;32md:\\shreeraj\\program files\\Anaconda\\lib\\site-packages\\pandas\\core\\apply.py:1137\u001b[0m, in \u001b[0;36mSeriesApply.apply_standard\u001b[1;34m(self)\u001b[0m\n\u001b[0;32m   1131\u001b[0m         values \u001b[39m=\u001b[39m obj\u001b[39m.\u001b[39mastype(\u001b[39mobject\u001b[39m)\u001b[39m.\u001b[39m_values\n\u001b[0;32m   1132\u001b[0m         \u001b[39m# error: Argument 2 to \"map_infer\" has incompatible type\u001b[39;00m\n\u001b[0;32m   1133\u001b[0m         \u001b[39m# \"Union[Callable[..., Any], str, List[Union[Callable[..., Any], str]],\u001b[39;00m\n\u001b[0;32m   1134\u001b[0m         \u001b[39m# Dict[Hashable, Union[Union[Callable[..., Any], str],\u001b[39;00m\n\u001b[0;32m   1135\u001b[0m         \u001b[39m# List[Union[Callable[..., Any], str]]]]]\"; expected\u001b[39;00m\n\u001b[0;32m   1136\u001b[0m         \u001b[39m# \"Callable[[Any], Any]\"\u001b[39;00m\n\u001b[1;32m-> 1137\u001b[0m         mapped \u001b[39m=\u001b[39m lib\u001b[39m.\u001b[39;49mmap_infer(\n\u001b[0;32m   1138\u001b[0m             values,\n\u001b[0;32m   1139\u001b[0m             f,  \u001b[39m# type: ignore[arg-type]\u001b[39;49;00m\n\u001b[0;32m   1140\u001b[0m             convert\u001b[39m=\u001b[39;49m\u001b[39mself\u001b[39;49m\u001b[39m.\u001b[39;49mconvert_dtype,\n\u001b[0;32m   1141\u001b[0m         )\n\u001b[0;32m   1143\u001b[0m \u001b[39mif\u001b[39;00m \u001b[39mlen\u001b[39m(mapped) \u001b[39mand\u001b[39;00m \u001b[39misinstance\u001b[39m(mapped[\u001b[39m0\u001b[39m], ABCSeries):\n\u001b[0;32m   1144\u001b[0m     \u001b[39m# GH#43986 Need to do list(mapped) in order to get treated as nested\u001b[39;00m\n\u001b[0;32m   1145\u001b[0m     \u001b[39m#  See also GH#25959 regarding EA support\u001b[39;00m\n\u001b[0;32m   1146\u001b[0m     \u001b[39mreturn\u001b[39;00m obj\u001b[39m.\u001b[39m_constructor_expanddim(\u001b[39mlist\u001b[39m(mapped), index\u001b[39m=\u001b[39mobj\u001b[39m.\u001b[39mindex)\n",
      "File \u001b[1;32md:\\shreeraj\\program files\\Anaconda\\lib\\site-packages\\pandas\\_libs\\lib.pyx:2870\u001b[0m, in \u001b[0;36mpandas._libs.lib.map_infer\u001b[1;34m()\u001b[0m\n",
      "\u001b[1;32md:\\shreeraj\\Coding\\Data science\\Project1\\ds_salary_proj\\desc_scarping.ipynb Cell 5\u001b[0m in \u001b[0;36mfind_rating\u001b[1;34m(company_name)\u001b[0m\n\u001b[0;32m     <a href='vscode-notebook-cell:/d%3A/shreeraj/Coding/Data%20science/Project1/ds_salary_proj/desc_scarping.ipynb#W4sZmlsZQ%3D%3D?line=17'>18</a>\u001b[0m     \u001b[39mexcept\u001b[39;00m NoSuchElementException:\n\u001b[0;32m     <a href='vscode-notebook-cell:/d%3A/shreeraj/Coding/Data%20science/Project1/ds_salary_proj/desc_scarping.ipynb#W4sZmlsZQ%3D%3D?line=18'>19</a>\u001b[0m         rating\u001b[39m=\u001b[39m\u001b[39m-\u001b[39m\u001b[39m1\u001b[39m\n\u001b[1;32m---> <a href='vscode-notebook-cell:/d%3A/shreeraj/Coding/Data%20science/Project1/ds_salary_proj/desc_scarping.ipynb#W4sZmlsZQ%3D%3D?line=20'>21</a>\u001b[0m     driver\u001b[39m.\u001b[39;49mclose()\n\u001b[0;32m     <a href='vscode-notebook-cell:/d%3A/shreeraj/Coding/Data%20science/Project1/ds_salary_proj/desc_scarping.ipynb#W4sZmlsZQ%3D%3D?line=22'>23</a>\u001b[0m \u001b[39mexcept\u001b[39;00m NoSuchElementException:\n\u001b[0;32m     <a href='vscode-notebook-cell:/d%3A/shreeraj/Coding/Data%20science/Project1/ds_salary_proj/desc_scarping.ipynb#W4sZmlsZQ%3D%3D?line=23'>24</a>\u001b[0m         rating\u001b[39m=\u001b[39m\u001b[39m-\u001b[39m\u001b[39m1\u001b[39m\n",
      "File \u001b[1;32m~\\AppData\\Roaming\\Python\\Python39\\site-packages\\selenium\\webdriver\\remote\\webdriver.py:551\u001b[0m, in \u001b[0;36mWebDriver.close\u001b[1;34m(self)\u001b[0m\n\u001b[0;32m    543\u001b[0m \u001b[39mdef\u001b[39;00m \u001b[39mclose\u001b[39m(\u001b[39mself\u001b[39m) \u001b[39m-\u001b[39m\u001b[39m>\u001b[39m \u001b[39mNone\u001b[39;00m:\n\u001b[0;32m    544\u001b[0m     \u001b[39m\"\"\"Closes the current window.\u001b[39;00m\n\u001b[0;32m    545\u001b[0m \n\u001b[0;32m    546\u001b[0m \u001b[39m    :Usage:\u001b[39;00m\n\u001b[1;32m   (...)\u001b[0m\n\u001b[0;32m    549\u001b[0m \u001b[39m            driver.close()\u001b[39;00m\n\u001b[0;32m    550\u001b[0m \u001b[39m    \"\"\"\u001b[39;00m\n\u001b[1;32m--> 551\u001b[0m     \u001b[39mself\u001b[39;49m\u001b[39m.\u001b[39;49mexecute(Command\u001b[39m.\u001b[39;49mCLOSE)\n",
      "File \u001b[1;32m~\\AppData\\Roaming\\Python\\Python39\\site-packages\\selenium\\webdriver\\remote\\webdriver.py:440\u001b[0m, in \u001b[0;36mWebDriver.execute\u001b[1;34m(self, driver_command, params)\u001b[0m\n\u001b[0;32m    438\u001b[0m response \u001b[39m=\u001b[39m \u001b[39mself\u001b[39m\u001b[39m.\u001b[39mcommand_executor\u001b[39m.\u001b[39mexecute(driver_command, params)\n\u001b[0;32m    439\u001b[0m \u001b[39mif\u001b[39;00m response:\n\u001b[1;32m--> 440\u001b[0m     \u001b[39mself\u001b[39;49m\u001b[39m.\u001b[39;49merror_handler\u001b[39m.\u001b[39;49mcheck_response(response)\n\u001b[0;32m    441\u001b[0m     response[\u001b[39m\"\u001b[39m\u001b[39mvalue\u001b[39m\u001b[39m\"\u001b[39m] \u001b[39m=\u001b[39m \u001b[39mself\u001b[39m\u001b[39m.\u001b[39m_unwrap_value(response\u001b[39m.\u001b[39mget(\u001b[39m\"\u001b[39m\u001b[39mvalue\u001b[39m\u001b[39m\"\u001b[39m, \u001b[39mNone\u001b[39;00m))\n\u001b[0;32m    442\u001b[0m     \u001b[39mreturn\u001b[39;00m response\n",
      "File \u001b[1;32m~\\AppData\\Roaming\\Python\\Python39\\site-packages\\selenium\\webdriver\\remote\\errorhandler.py:245\u001b[0m, in \u001b[0;36mErrorHandler.check_response\u001b[1;34m(self, response)\u001b[0m\n\u001b[0;32m    243\u001b[0m         alert_text \u001b[39m=\u001b[39m value[\u001b[39m\"\u001b[39m\u001b[39malert\u001b[39m\u001b[39m\"\u001b[39m]\u001b[39m.\u001b[39mget(\u001b[39m\"\u001b[39m\u001b[39mtext\u001b[39m\u001b[39m\"\u001b[39m)\n\u001b[0;32m    244\u001b[0m     \u001b[39mraise\u001b[39;00m exception_class(message, screen, stacktrace, alert_text)  \u001b[39m# type: ignore[call-arg]  # mypy is not smart enough here\u001b[39;00m\n\u001b[1;32m--> 245\u001b[0m \u001b[39mraise\u001b[39;00m exception_class(message, screen, stacktrace)\n",
      "\u001b[1;31mWebDriverException\u001b[0m: Message: disconnected: not connected to DevTools\n  (failed to check if window was closed: disconnected: not connected to DevTools)\n  (Session info: chrome=113.0.5672.93)\nStacktrace:\nBacktrace:\n\tGetHandleVerifier [0x00F88893+48451]\n\t(No symbol) [0x00F1B8A1]\n\t(No symbol) [0x00E25058]\n\t(No symbol) [0x00E16F0B]\n\t(No symbol) [0x00E175CA]\n\t(No symbol) [0x00E17568]\n\t(No symbol) [0x00E0C0BA]\n\t(No symbol) [0x00E0C917]\n\t(No symbol) [0x00E722F8]\n\t(No symbol) [0x00E6A283]\n\t(No symbol) [0x00E47E08]\n\t(No symbol) [0x00E48F2D]\n\tGetHandleVerifier [0x011E8E3A+2540266]\n\tGetHandleVerifier [0x01228959+2801161]\n\tGetHandleVerifier [0x0122295C+2776588]\n\tGetHandleVerifier [0x01012280+612144]\n\t(No symbol) [0x00F24F6C]\n\t(No symbol) [0x00F211D8]\n\t(No symbol) [0x00F212BB]\n\t(No symbol) [0x00F14857]\n\tBaseThreadInitThunk [0x75C07D59+25]\n\tRtlInitializeExceptionChain [0x775AB74B+107]\n\tRtlClearBits [0x775AB6CF+191]\n"
     ]
    }
   ],
   "source": [
    "find_details()"
   ]
  },
  {
   "cell_type": "code",
   "execution_count": 14,
   "metadata": {},
   "outputs": [
    {
     "data": {
      "text/plain": [
       "-1.0    153\n",
       " 3.3      7\n",
       " 3.9      4\n",
       " 4.5      4\n",
       " 4.3      3\n",
       " 2.5      3\n",
       " 4.1      2\n",
       " 4.0      2\n",
       " 3.8      2\n",
       " 4.2      2\n",
       " 4.7      2\n",
       " 3.4      1\n",
       " 3.0      1\n",
       " 5.0      1\n",
       " 3.2      1\n",
       " 3.5      1\n",
       "Name: Rating, dtype: int64"
      ]
     },
     "execution_count": 14,
     "metadata": {},
     "output_type": "execute_result"
    }
   ],
   "source": [
    "df[\"Rating\"].value_counts()"
   ]
  },
  {
   "cell_type": "code",
   "execution_count": null,
   "metadata": {},
   "outputs": [],
   "source": [
    "df.to_csv(\"Ratings Scraped.csv\",index=False)\n"
   ]
  }
 ],
 "metadata": {
  "kernelspec": {
   "display_name": "base",
   "language": "python",
   "name": "python3"
  },
  "language_info": {
   "codemirror_mode": {
    "name": "ipython",
    "version": 3
   },
   "file_extension": ".py",
   "mimetype": "text/x-python",
   "name": "python",
   "nbconvert_exporter": "python",
   "pygments_lexer": "ipython3",
   "version": "3.9.12"
  },
  "orig_nbformat": 4
 },
 "nbformat": 4,
 "nbformat_minor": 2
}
